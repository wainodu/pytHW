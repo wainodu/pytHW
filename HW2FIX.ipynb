{
 "cells": [
  {
   "cell_type": "code",
   "execution_count": null,
   "id": "11aca77b-abe8-4338-9b49-ad671beca63b",
   "metadata": {},
   "outputs": [],
   "source": [
    "import pandas as pd\n",
    "import requests\n",
    "import json\n",
    "import os\n",
    "import matplotlib.pyplot as plt\n",
    "import seaborn as sns\n",
    "import numpy as np\n",
    "def load(offset_,limit_):\n",
    "    url = f'https://xn--80az8a.xn--d1aqf.xn--p1ai/%D1%81%D0%B5%D1%80%D0%B2%D0%B8%D1%81%D1%8B/api/kn/object?offset={offset_}&limit={limit_}&sortField=devId.devShortCleanNm&sortType=asc&objStatus=0'\n",
    "    res = requests.get(url)\n",
    "    objects_data = res.json()\n",
    "    return objects_data['data']['list']\n",
    "def load_one(idObj):\n",
    "    url = f'https://xn--80az8a.xn--d1aqf.xn--p1ai/%D1%81%D0%B5%D1%80%D0%B2%D0%B8%D1%81%D1%8B/api/object/{idObj}'\n",
    "    res = requests.get(url)\n",
    "    objects_data = res.json()\n",
    "    return objects_data['data']\n",
    "offset= 0\n",
    "limit= 5000\n",
    "first = load(offset,limit)\n",
    "a=len(first)\n",
    "while a>0:\n",
    "    offset+=5000\n",
    "    second = load(offset,limit)\n",
    "    a=len(second)\n",
    "    first+=second\n",
    "df = pd.json_normalize(first)\n",
    "a = []\n",
    "for i in range(0,len(df)):\n",
    "    a.append(load_one(df['objId'].iloc[i]))\n",
    "df_detal = pd.json_normalize(a)\n",
    "h = df_detal.sort_values(by='region', ascending=False)\n",
    "h = h.loc[h['objElemLivingCnt'] != 0]\n",
    "h = h.reset_index(drop=True)\n",
    "g1 = 0\n",
    "frame = pd.DataFrame({'region': [],'price': []})\n",
    "for f in range(len(h)):\n",
    "    g2 = h['region'][f]\n",
    "    if g2 != g1:\n",
    "        h1 = h.loc[h['region'] == g2]\n",
    "        j = h1[\"objElemLivingCnt\"].mean()\n",
    "        #print(j)\n",
    "        g1 = g2\n",
    "        frameone = pd.DataFrame({'region': [g2],'price': [j]})\n",
    "        frame = frame.append([frameone])\n",
    "        continue\n",
    "frame = frame.reset_index(drop=True)\n",
    "bm_price_series = frame.set_index('region')['price'] \n",
    "from pylab import rcParams\n",
    "rcParams['figure.figsize'] = 30,250\n",
    "bm_price_series.plot(kind='barh')\n",
    "plt.show()"
   ]
  },
  {
   "cell_type": "code",
   "execution_count": null,
   "id": "5c520bfe-981f-4cf7-a72c-d10ddb55bb95",
   "metadata": {},
   "outputs": [],
   "source": []
  },
  {
   "cell_type": "code",
   "execution_count": null,
   "id": "dec3b6bf-b872-4233-af39-fffbf71eb81b",
   "metadata": {},
   "outputs": [],
   "source": []
  }
 ],
 "metadata": {
  "kernelspec": {
   "display_name": "Python 3 (ipykernel)",
   "language": "python",
   "name": "python3"
  },
  "language_info": {
   "codemirror_mode": {
    "name": "ipython",
    "version": 3
   },
   "file_extension": ".py",
   "mimetype": "text/x-python",
   "name": "python",
   "nbconvert_exporter": "python",
   "pygments_lexer": "ipython3",
   "version": "3.9.12"
  }
 },
 "nbformat": 4,
 "nbformat_minor": 5
}
