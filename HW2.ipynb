{
 "cells": [
  {
   "cell_type": "code",
   "execution_count": null,
   "id": "7a36ec9f-7800-4263-a026-df4d08349e83",
   "metadata": {
    "tags": []
   },
   "outputs": [],
   "source": [
    "import pandas as pd\n",
    "import requests\n",
    "import json\n",
    "limit_ = 500\n",
    "objids = []\n",
    "offset_ = 0\n",
    "count = []\n",
    "while True:\n",
    "    url = f'https://xn--80az8a.xn--d1aqf.xn--p1ai/%D1%81%D0%B5%D1%80%D0%B2%D0%B8%D1%81%D1%8B/api/kn/object?offset={offset_}&limit={limit_}&sortField=devId.devShortCleanNm&sortType=asc&objStatus=0'\n",
    "    res = requests.get(url)\n",
    "    objects_data = res.json()\n",
    "    objects_data.get('data').get('list')[0]\n",
    "    objects_list = objects_data.get('data').get('list')\n",
    "    count = [x.get('objId') for x in objects_list]\n",
    "    if len(count) < limit_:\n",
    "        break\n",
    "    objids.append(x.get('objId') for x in objects_list)\n",
    "    offset_ = offset_ + 1\n",
    "    count = []\n",
    "def load_one(objids): \n",
    "    url = f'https://xn--80az8a.xn--d1aqf.xn--p1ai/%D1%81%D0%B5%D1%80%D0%B2%D0%B8%D1%81%D1%8B/api/object/{objids}' \n",
    "    res = requests.get(url) \n",
    "    objects_data = res.json() \n",
    "    return objects_data['data']\n",
    "a = [] \n",
    "for i in objids: \n",
    "    a.append(load_one(i))\n",
    "df_detal = pd.json_normalize(a)\n",
    "df_detal\n",
    "\n",
    "\n",
    "\n"
   ]
  },
  {
   "cell_type": "code",
   "execution_count": null,
   "id": "5dd3818d-42e6-4d37-b98b-70171882c64d",
   "metadata": {},
   "outputs": [],
   "source": []
  },
  {
   "cell_type": "code",
   "execution_count": null,
   "id": "06687d40-dec9-4401-9a62-43511995fb05",
   "metadata": {},
   "outputs": [],
   "source": []
  },
  {
   "cell_type": "code",
   "execution_count": null,
   "id": "a48fb712-57f0-4472-a8cc-d0f54e6b96a8",
   "metadata": {},
   "outputs": [],
   "source": []
  }
 ],
 "metadata": {
  "kernelspec": {
   "display_name": "Python 3 (ipykernel)",
   "language": "python",
   "name": "python3"
  },
  "language_info": {
   "codemirror_mode": {
    "name": "ipython",
    "version": 3
   },
   "file_extension": ".py",
   "mimetype": "text/x-python",
   "name": "python",
   "nbconvert_exporter": "python",
   "pygments_lexer": "ipython3",
   "version": "3.9.12"
  }
 },
 "nbformat": 4,
 "nbformat_minor": 5
}
