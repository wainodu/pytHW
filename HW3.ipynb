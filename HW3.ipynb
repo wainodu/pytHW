{
 "cells": [
  {
   "cell_type": "code",
   "execution_count": null,
   "id": "0c7b974e-2a50-4a6b-8f79-d7e46d6bb549",
   "metadata": {
    "tags": []
   },
   "outputs": [],
   "source": [
    "import pandas as pd\n",
    "import requests\n",
    "import json\n",
    "limit_ = 1000\n",
    "objids = []\n",
    "offset_ = 0\n",
    "count = []\n",
    "while len(count) != 0 or objids % count == 0:\n",
    "    url = f'https://xn--80az8a.xn--d1aqf.xn--p1ai/%D1%81%D0%B5%D1%80%D0%B2%D0%B8%D1%81%D1%8B/api/kn/object?offset={offset_}&limit={limit_}&sortField=devId.devShortCleanNm&sortType=asc&objStatus=0'\n",
    "    res = requests.get(url)\n",
    "    objects_data = res.json()\n",
    "    objects_data.get('data').get('list')[0]\n",
    "    objects_list = objects_data.get('data').get('list')\n",
    "    objids = [x.get('objId') for x in objects_list]\n",
    "    count = [x.get('objId') for x in objects_list]\n",
    "    if len(count) == 0 or objids % count != 0:\n",
    "        break\n",
    "    offset_ = offset_ + 1\n",
    "    count = []\n",
    "def load_one(objids): \n",
    "    url = f'https://xn--80az8a.xn--d1aqf.xn--p1ai/%D1%81%D0%B5%D1%80%D0%B2%D0%B8%D1%81%D1%8B/api/object/{objids}' \n",
    "    res = requests.get(url) \n",
    "    objects_data = res.json() \n",
    "    return objects_data['data']\n",
    "a = [] \n",
    "for i in objids: \n",
    "    a.append(load_one(i))\n",
    "df_detal = pd.json_normalize(a)\n",
    "df_detal\n"
   ]
  },
  {
   "cell_type": "code",
   "execution_count": null,
   "id": "29e119c3-e4ec-4f4c-b14b-7ef6bfc89c6e",
   "metadata": {},
   "outputs": [],
   "source": []
  },
  {
   "cell_type": "code",
   "execution_count": null,
   "id": "4039eac1-d25a-4ccc-a473-2eaf0e258bd3",
   "metadata": {},
   "outputs": [],
   "source": []
  }
 ],
 "metadata": {
  "kernelspec": {
   "display_name": "Python 3 (ipykernel)",
   "language": "python",
   "name": "python3"
  },
  "language_info": {
   "codemirror_mode": {
    "name": "ipython",
    "version": 3
   },
   "file_extension": ".py",
   "mimetype": "text/x-python",
   "name": "python",
   "nbconvert_exporter": "python",
   "pygments_lexer": "ipython3",
   "version": "3.9.12"
  }
 },
 "nbformat": 4,
 "nbformat_minor": 5
}
